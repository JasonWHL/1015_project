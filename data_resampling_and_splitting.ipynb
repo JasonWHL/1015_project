{
 "cells": [
  {
   "cell_type": "markdown",
   "id": "674aa056",
   "metadata": {},
   "source": [
    "## Import necessary libraries"
   ]
  },
  {
   "cell_type": "code",
   "execution_count": 1,
   "id": "d741c7c2",
   "metadata": {},
   "outputs": [
    {
     "name": "stdout",
     "output_type": "stream",
     "text": [
      "C:\\Users\\dorot\\AppData\\Local\\Microsoft\\WindowsApps\\PythonSoftwareFoundation.Python.3.11_qbz5n2kfra8p0\\python.exe\n"
     ]
    }
   ],
  },
  {
   "cell_type": "code",
   "execution_count": 9,
   "id": "e644d46d",
   "metadata": {},
   "outputs": [],
   "source": [
    "# Basic Libraries\n",
    "import numpy as np\n",
    "import pandas as pd\n",
    "import seaborn as sb\n",
    "import matplotlib.pyplot as plt\n",
    "sb.set()\n",
    "\n",
    "# For data splitting\n",
    "from sklearn.model_selection import train_test_split\n",
    "\n",
    "# For resampling\n",
    "from imblearn.over_sampling import SMOTE\n",
    "from imblearn.under_sampling import RandomUnderSampler"
   ]
  },
  {
   "cell_type": "markdown",
   "id": "9d1f2141",
   "metadata": {},
   "source": [
    "## Helper functions for additional factors"
   ]
  },
  {
   "cell_type": "code",
   "execution_count": 5,
   "id": "7b432543",
   "metadata": {},
   "outputs": [],
   "source": [
    "# Determine if a student performed well\n",
    "def performedWell(value):\n",
    "    if value >= 15:\n",
    "        return 1\n",
    "    else:\n",
    "        return 0\n",
    "    \n",
    "# Determine if student has a big family (>3 family size), returns 1 if true & 0 otherwise\n",
    "def bigFam(value):\n",
    "    if value == \"GT3\":\n",
    "        return 1\n",
    "    else:\n",
    "        return 0\n",
    "\n",
    "# Determine whether the student has at least one educated parent (i.e. level 4 education)\n",
    "def atLeast1EduParent(medu, fedu):\n",
    "    if medu == 4 or fedu == 4:\n",
    "        return 1\n",
    "    else:\n",
    "        return 0\n",
    "\n",
    "# Determine whether the student's parents have a large education gap (i.e. >=2 level gap)\n",
    "def parentEduGap(medu, fedu):\n",
    "    gap = abs(medu - fedu)\n",
    "    if gap >= 2:\n",
    "        return 1\n",
    "    else: \n",
    "        return 0\n",
    "    \n",
    "# Determine whether the student's parents are living together or apart\n",
    "def cohabitationStatus(value):\n",
    "    if value == 'T':\n",
    "        return 1\n",
    "    else:\n",
    "        return 0\n",
    "    \n",
    "# Determine whether the student's parents are employed\n",
    "def employed(value):\n",
    "    if value == \"at_home\":\n",
    "        return 0\n",
    "    else:\n",
    "        return 1\n",
    "    \n",
    "# Determine whether the student has a good relationship with their family (i.e. >= level 3)\n",
    "def goodRelation(value):\n",
    "    if value >= 3:\n",
    "        return 1\n",
    "    else:\n",
    "        return 0\n",
    "    \n",
    "# Change yes & no to '1' & '0', respectively (for consistency)\n",
    "def famSupport(value):\n",
    "    if value == \"yes\":\n",
    "        return 1\n",
    "    else:\n",
    "        return 0"
   ]
  },
  {
   "cell_type": "markdown",
   "id": "5e85fbd8",
   "metadata": {},
   "source": [
    "## Adding relevant factors"
   ]
  },
  {
   "cell_type": "code",
   "execution_count": 6,
   "id": "faa46167",
   "metadata": {},
   "outputs": [],
   "source": [
    "# Read the CSV file into a DataFrame\n",
    "df = pd.read_csv(\"aligned_student_data.csv\")\n",
    "\n",
    "# Apply performed_well function to 'G3' column and create a new column 'PerformedWell'\n",
    "df['PerformedWell'] = df['G3'].apply(performedWell)\n",
    "\n",
    "# Apply bigFam function to 'famsize' column and create a new column 'BigFamily'\n",
    "df['BigFamily'] = df['famsize'].apply(bigFam)\n",
    "\n",
    "# Apply atLeast1EduParent function to 'Medu' and 'Fedu' columns and create a new column 'AtLeast1EducatedParent'\n",
    "df['AtLeast1EducatedParent'] = df.apply(lambda row: atLeast1EduParent(row['Medu'], row['Fedu']), axis=1)\n",
    "\n",
    "# Apply parentEduGap function to 'Medu' and 'Fedu' columns and create a new column 'ParentEducationGap'\n",
    "df['ParentEducationGap'] = df.apply(lambda row: parentEduGap(row['Medu'], row['Fedu']), axis=1)\n",
    "\n",
    "# Apply cohabitation_status function to 'Pstatus' column and create a new column 'ParentsLivingTogether'\n",
    "df['ParentsLivingTogether'] = df['Pstatus'].apply(cohabitationStatus)\n",
    "\n",
    "# Apply employed function to 'Mjob' and 'Fjob' columns and create new columns \"M_employed\" and \"F_employed\" respectively\n",
    "df['M_employed'] = df['Mjob'].apply(employed)\n",
    "df['F_employed'] = df['Fjob'].apply(employed)\n",
    "\n",
    "# Apply goodRelation function to 'famrel' column and create a new column 'GoodFamilyRelationship'\n",
    "df['GoodFamilyRelation'] = df['famrel'].apply(goodRelation)\n",
    "\n",
    "# Apply famSupport function to 'famsup' column and create a new column 'SupportedByFamily'\n",
    "df['SupportedByFamily'] = df['famsup'].apply(famSupport)\n",
    "\n",
    "# Save the DataFrame with the new column back to a CSV file\n",
    "df.to_csv(\"aligned_student_data.csv\", index=False)"
   ]
  },
  {
   "cell_type": "code",
   "execution_count": 7,
   "id": "7340d672",
   "metadata": {},
   "outputs": [
    {
     "data": {
      "text/html": [
       "<div>\n",
       "<style scoped>\n",
       "    .dataframe tbody tr th:only-of-type {\n",
       "        vertical-align: middle;\n",
       "    }\n",
       "\n",
       "    .dataframe tbody tr th {\n",
       "        vertical-align: top;\n",
       "    }\n",
       "\n",
       "    .dataframe thead th {\n",
       "        text-align: right;\n",
       "    }\n",
       "</style>\n",
       "<table border=\"1\" class=\"dataframe\">\n",
       "  <thead>\n",
       "    <tr style=\"text-align: right;\">\n",
       "      <th></th>\n",
       "      <th>BigFamily</th>\n",
       "      <th>ParentsLivingTogether</th>\n",
       "      <th>AtLeast1EducatedParent</th>\n",
       "      <th>ParentEducationGap</th>\n",
       "      <th>M_employed</th>\n",
       "      <th>F_employed</th>\n",
       "      <th>SupportedByFamily</th>\n",
       "      <th>GoodFamilyRelation</th>\n",
       "      <th>PerformedWell</th>\n",
       "    </tr>\n",
       "  </thead>\n",
       "  <tbody>\n",
       "    <tr>\n",
       "      <th>0</th>\n",
       "      <td>1</td>\n",
       "      <td>0</td>\n",
       "      <td>1</td>\n",
       "      <td>0</td>\n",
       "      <td>0</td>\n",
       "      <td>1</td>\n",
       "      <td>0</td>\n",
       "      <td>1</td>\n",
       "      <td>0</td>\n",
       "    </tr>\n",
       "    <tr>\n",
       "      <th>1</th>\n",
       "      <td>1</td>\n",
       "      <td>1</td>\n",
       "      <td>0</td>\n",
       "      <td>0</td>\n",
       "      <td>0</td>\n",
       "      <td>1</td>\n",
       "      <td>1</td>\n",
       "      <td>1</td>\n",
       "      <td>0</td>\n",
       "    </tr>\n",
       "    <tr>\n",
       "      <th>2</th>\n",
       "      <td>0</td>\n",
       "      <td>1</td>\n",
       "      <td>0</td>\n",
       "      <td>0</td>\n",
       "      <td>0</td>\n",
       "      <td>1</td>\n",
       "      <td>0</td>\n",
       "      <td>1</td>\n",
       "      <td>0</td>\n",
       "    </tr>\n",
       "    <tr>\n",
       "      <th>3</th>\n",
       "      <td>1</td>\n",
       "      <td>1</td>\n",
       "      <td>1</td>\n",
       "      <td>1</td>\n",
       "      <td>1</td>\n",
       "      <td>1</td>\n",
       "      <td>1</td>\n",
       "      <td>1</td>\n",
       "      <td>0</td>\n",
       "    </tr>\n",
       "    <tr>\n",
       "      <th>4</th>\n",
       "      <td>1</td>\n",
       "      <td>1</td>\n",
       "      <td>0</td>\n",
       "      <td>0</td>\n",
       "      <td>1</td>\n",
       "      <td>1</td>\n",
       "      <td>1</td>\n",
       "      <td>1</td>\n",
       "      <td>0</td>\n",
       "    </tr>\n",
       "  </tbody>\n",
       "</table>\n",
       "</div>"
      ],
      "text/plain": [
       "   BigFamily  ParentsLivingTogether  AtLeast1EducatedParent  \\\n",
       "0          1                      0                       1   \n",
       "1          1                      1                       0   \n",
       "2          0                      1                       0   \n",
       "3          1                      1                       1   \n",
       "4          1                      1                       0   \n",
       "\n",
       "   ParentEducationGap  M_employed  F_employed  SupportedByFamily  \\\n",
       "0                   0           0           1                  0   \n",
       "1                   0           0           1                  1   \n",
       "2                   0           0           1                  0   \n",
       "3                   1           1           1                  1   \n",
       "4                   0           1           1                  1   \n",
       "\n",
       "   GoodFamilyRelation  PerformedWell  \n",
       "0                   1              0  \n",
       "1                   1              0  \n",
       "2                   1              0  \n",
       "3                   1              0  \n",
       "4                   1              0  "
      ]
     },
     "execution_count": 7,
     "metadata": {},
     "output_type": "execute_result"
    }
   ],
   "source": [
    "df = df.filter([\"BigFamily\", \"ParentsLivingTogether\", \"AtLeast1EducatedParent\", \"ParentEducationGap\", \"M_employed\", \"F_employed\", \"SupportedByFamily\", \"GoodFamilyRelation\", \"PerformedWell\"], axis=1)\n",
    "df.head()"
   ]
  },
  {
   "cell_type": "markdown",
   "id": "91673e0c",
   "metadata": {},
   "source": [
    "## Data Splitting"
   ]
  },
  {
   "cell_type": "code",
   "execution_count": 10,
   "id": "3fc7376c",
   "metadata": {},
   "outputs": [],
   "source": [
    "# Split the dataframe into predicators and response\n",
    "X, y = df.iloc[: , :-1], df.iloc[: , -1]\n",
    "\n",
    "# Since the dataset is smaller, split the dataset into 60% training and 40% test set\n",
    "X_train, X_test, y_train, y_test = train_test_split(X, y, train_size = 0.6, random_state = 20)"
   ]
  },
  {
   "cell_type": "code",
   "execution_count": 11,
   "id": "287c2c44",
   "metadata": {},
   "outputs": [
    {
     "name": "stdout",
     "output_type": "stream",
     "text": [
      "Proportion of students who perfomed well and did not perform well:\n",
      "Performed well vs Did not perform well\n",
      "78 vs 311\n"
     ]
    }
   ],
   "source": [
    "print(\"Proportion of students who perfomed well and did not perform well:\")\n",
    "print(\"Performed well vs Did not perform well\")\n",
    "print(y_train.value_counts()[1], 'vs', y_train.value_counts()[0])"
   ]
  },
  {
   "cell_type": "markdown",
   "id": "7c9d3502",
   "metadata": {},
   "source": [
    "Above shows that the data is imbalanced.\n",
    "Hence, we decided to use the resampling technique to solve this issue"
   ]
  },
  {
   "cell_type": "markdown",
   "id": "10539961",
   "metadata": {},
   "source": [
    "## Save train and test data as CSV, respectively"
   ]
  },
  {
   "cell_type": "code",
   "execution_count": 12,
   "id": "f70cb8f9",
   "metadata": {},
   "outputs": [],
   "source": [
    "# Create a DF for the training data\n",
    "train_df = pd.concat([X_train, y_train], axis=1)\n",
    "train_df.to_csv('train.csv')\n",
    "\n",
    "# Create a DF for the test data\n",
    "test_df = pd.concat([X_test, y_test], axis = 1)\n",
    "test_df.to_csv('test.csv')"
   ]
  },
  {
   "cell_type": "markdown",
   "id": "e644cb37",
   "metadata": {},
   "source": [
    "## Oversampling using SMOTE"
   ]
  },
  {
   "cell_type": "code",
   "execution_count": 22,
   "id": "ce45b996",
   "metadata": {},
   "outputs": [
    {
     "data": {
      "text/html": [
       "<div>\n",
       "<style scoped>\n",
       "    .dataframe tbody tr th:only-of-type {\n",
       "        vertical-align: middle;\n",
       "    }\n",
       "\n",
       "    .dataframe tbody tr th {\n",
       "        vertical-align: top;\n",
       "    }\n",
       "\n",
       "    .dataframe thead th {\n",
       "        text-align: right;\n",
       "    }\n",
       "</style>\n",
       "<table border=\"1\" class=\"dataframe\">\n",
       "  <thead>\n",
       "    <tr style=\"text-align: right;\">\n",
       "      <th></th>\n",
       "      <th>BigFamily</th>\n",
       "      <th>ParentsLivingTogether</th>\n",
       "      <th>AtLeast1EducatedParent</th>\n",
       "      <th>ParentEducationGap</th>\n",
       "      <th>M_employed</th>\n",
       "      <th>F_employed</th>\n",
       "      <th>SupportedByFamily</th>\n",
       "      <th>GoodFamilyRelation</th>\n",
       "      <th>PerformedWell</th>\n",
       "    </tr>\n",
       "  </thead>\n",
       "  <tbody>\n",
       "    <tr>\n",
       "      <th>0</th>\n",
       "      <td>0</td>\n",
       "      <td>0</td>\n",
       "      <td>0</td>\n",
       "      <td>0</td>\n",
       "      <td>1</td>\n",
       "      <td>1</td>\n",
       "      <td>1</td>\n",
       "      <td>1</td>\n",
       "      <td>0</td>\n",
       "    </tr>\n",
       "    <tr>\n",
       "      <th>1</th>\n",
       "      <td>0</td>\n",
       "      <td>1</td>\n",
       "      <td>1</td>\n",
       "      <td>1</td>\n",
       "      <td>1</td>\n",
       "      <td>1</td>\n",
       "      <td>0</td>\n",
       "      <td>1</td>\n",
       "      <td>0</td>\n",
       "    </tr>\n",
       "    <tr>\n",
       "      <th>2</th>\n",
       "      <td>1</td>\n",
       "      <td>0</td>\n",
       "      <td>1</td>\n",
       "      <td>0</td>\n",
       "      <td>1</td>\n",
       "      <td>1</td>\n",
       "      <td>1</td>\n",
       "      <td>1</td>\n",
       "      <td>1</td>\n",
       "    </tr>\n",
       "    <tr>\n",
       "      <th>3</th>\n",
       "      <td>1</td>\n",
       "      <td>0</td>\n",
       "      <td>0</td>\n",
       "      <td>0</td>\n",
       "      <td>1</td>\n",
       "      <td>1</td>\n",
       "      <td>0</td>\n",
       "      <td>1</td>\n",
       "      <td>0</td>\n",
       "    </tr>\n",
       "    <tr>\n",
       "      <th>4</th>\n",
       "      <td>1</td>\n",
       "      <td>1</td>\n",
       "      <td>0</td>\n",
       "      <td>0</td>\n",
       "      <td>1</td>\n",
       "      <td>1</td>\n",
       "      <td>0</td>\n",
       "      <td>1</td>\n",
       "      <td>1</td>\n",
       "    </tr>\n",
       "  </tbody>\n",
       "</table>\n",
       "</div>"
      ],
      "text/plain": [
       "   BigFamily  ParentsLivingTogether  AtLeast1EducatedParent  \\\n",
       "0          0                      0                       0   \n",
       "1          0                      1                       1   \n",
       "2          1                      0                       1   \n",
       "3          1                      0                       0   \n",
       "4          1                      1                       0   \n",
       "\n",
       "   ParentEducationGap  M_employed  F_employed  SupportedByFamily  \\\n",
       "0                   0           1           1                  1   \n",
       "1                   1           1           1                  0   \n",
       "2                   0           1           1                  1   \n",
       "3                   0           1           1                  0   \n",
       "4                   0           1           1                  0   \n",
       "\n",
       "   GoodFamilyRelation  PerformedWell  \n",
       "0                   1              0  \n",
       "1                   1              0  \n",
       "2                   1              1  \n",
       "3                   1              0  \n",
       "4                   1              1  "
      ]
     },
     "execution_count": 22,
     "metadata": {},
     "output_type": "execute_result"
    }
   ],
   "source": [
    "# Perform oversampling using SMOTE\n",
    "smote = SMOTE(random_state = 42)\n",
    "X_oversampled, y_oversampled = smote.fit_resample(X_train, y_train)\n",
    "\n",
    "# Concatenate X and y arrays for oversampled data\n",
    "oversampled_student_data = pd.concat([pd.DataFrame(X_oversampled, columns = X.columns), pd.DataFrame(y_oversampled, columns = ['PerformedWell'])], axis = 1)\n",
    "\n",
    "oversampled_student_data.head()"
   ]
  },
  {
   "cell_type": "code",
   "execution_count": 14,
   "id": "a2eddd35",
   "metadata": {},
   "outputs": [
    {
     "name": "stdout",
     "output_type": "stream",
     "text": [
      "After oversampling: \n",
      "Performed well vs Did not perform well\n",
      "311 vs 311\n"
     ]
    }
   ],
   "source": [
    "print(\"After oversampling: \")\n",
    "print(\"Performed well vs Did not perform well\")\n",
    "print(y_oversampled.value_counts()[1], 'vs', y_oversampled.value_counts()[0])"
   ]
  },
  {
   "cell_type": "markdown",
   "id": "2731969a",
   "metadata": {},
   "source": [
    "## Undersampling using RandomUnderSampler"
   ]
  },
  {
   "cell_type": "code",
   "execution_count": 23,
   "id": "7cd22caa",
   "metadata": {},
   "outputs": [
    {
     "ename": "NameError",
     "evalue": "name 'undersampeld_student_data' is not defined",
     "output_type": "error",
     "traceback": [
      "\u001b[1;31m---------------------------------------------------------------------------\u001b[0m",
      "\u001b[1;31mNameError\u001b[0m                                 Traceback (most recent call last)",
      "Cell \u001b[1;32mIn[23], line 8\u001b[0m\n\u001b[0;32m      5\u001b[0m \u001b[38;5;66;03m# Concatenate X and y arrays for undersampled data\u001b[39;00m\n\u001b[0;32m      6\u001b[0m undersampled_student_data \u001b[38;5;241m=\u001b[39m pd\u001b[38;5;241m.\u001b[39mconcat([pd\u001b[38;5;241m.\u001b[39mDataFrame(X_undersampled, columns \u001b[38;5;241m=\u001b[39m X\u001b[38;5;241m.\u001b[39mcolumns), pd\u001b[38;5;241m.\u001b[39mDataFrame(y_undersampled, columns \u001b[38;5;241m=\u001b[39m [\u001b[38;5;124m'\u001b[39m\u001b[38;5;124mPerformedWell\u001b[39m\u001b[38;5;124m'\u001b[39m])], axis \u001b[38;5;241m=\u001b[39m \u001b[38;5;241m1\u001b[39m)\n\u001b[1;32m----> 8\u001b[0m \u001b[43mundersampeld_student_data\u001b[49m\u001b[38;5;241m.\u001b[39mhead()\n",
      "\u001b[1;31mNameError\u001b[0m: name 'undersampeld_student_data' is not defined"
     ]
    }
   ],
   "source": [
    "# Perform undersampling using RandomUnderSampler\n",
    "undersampler = RandomUnderSampler(random_state = 42)\n",
    "X_undersampled, y_undersampled = undersampler.fit_resample(X_train, y_train)\n",
    "\n",
    "# Concatenate X and y arrays for undersampled data\n",
    "undersampled_student_data = pd.concat([pd.DataFrame(X_undersampled, columns = X.columns), pd.DataFrame(y_undersampled, columns = ['PerformedWell'])], axis = 1)\n",
    "\n",
    "undersampeld_student_data.head()"
   ]
  },
  {
   "cell_type": "code",
   "execution_count": 17,
   "id": "802745f8",
   "metadata": {},
   "outputs": [
    {
     "name": "stdout",
     "output_type": "stream",
     "text": [
      "After undersampling: \n",
      "Performed well vs Did not perform well\n",
      "78 vs 78\n"
     ]
    }
   ],
   "source": [
    "print(\"After undersampling: \")\n",
    "print(\"Performed well vs Did not perform well\")\n",
    "print(y_undersampled.value_counts()[1], 'vs', y_undersampled.value_counts()[0])"
   ]
  },
  {
   "cell_type": "markdown",
   "id": "54886ec8",
   "metadata": {},
   "source": [
    "## Save resampled data as CSV"
   ]
  },
  {
   "cell_type": "code",
   "execution_count": 18,
   "id": "ef2eaefa",
   "metadata": {},
   "outputs": [],
   "source": [
    "# Save oversampled and undersampled datasets into new CSV files\n",
    "oversampled_student_data.to_csv('oversampled_student_data.csv', index = False)\n",
    "undersampled_student_data.to_csv('undersampled_student_data.csv', index = False)"
   ]
  },
  {
   "cell_type": "markdown",
   "id": "4f7c97d3",
   "metadata": {},
   "source": [
    "## Visualing resampled data vs original data"
   ]
  },
  {
   "cell_type": "code",
   "execution_count": 20,
   "id": "bfe44c6d",
   "metadata": {},
   "outputs": [
    {
     "ename": "KeyError",
     "evalue": "'PerformedWell'",
     "output_type": "error",
     "traceback": [
      "\u001b[1;31m---------------------------------------------------------------------------\u001b[0m",
      "\u001b[1;31mKeyError\u001b[0m                                  Traceback (most recent call last)",
      "File \u001b[1;32m~\\AppData\\Local\\Packages\\PythonSoftwareFoundation.Python.3.11_qbz5n2kfra8p0\\LocalCache\\local-packages\\Python311\\site-packages\\pandas\\core\\indexes\\base.py:3805\u001b[0m, in \u001b[0;36mIndex.get_loc\u001b[1;34m(self, key)\u001b[0m\n\u001b[0;32m   3804\u001b[0m \u001b[38;5;28;01mtry\u001b[39;00m:\n\u001b[1;32m-> 3805\u001b[0m     \u001b[38;5;28;01mreturn\u001b[39;00m \u001b[38;5;28;43mself\u001b[39;49m\u001b[38;5;241;43m.\u001b[39;49m\u001b[43m_engine\u001b[49m\u001b[38;5;241;43m.\u001b[39;49m\u001b[43mget_loc\u001b[49m\u001b[43m(\u001b[49m\u001b[43mcasted_key\u001b[49m\u001b[43m)\u001b[49m\n\u001b[0;32m   3806\u001b[0m \u001b[38;5;28;01mexcept\u001b[39;00m \u001b[38;5;167;01mKeyError\u001b[39;00m \u001b[38;5;28;01mas\u001b[39;00m err:\n",
      "File \u001b[1;32mindex.pyx:167\u001b[0m, in \u001b[0;36mpandas._libs.index.IndexEngine.get_loc\u001b[1;34m()\u001b[0m\n",
      "File \u001b[1;32mindex.pyx:196\u001b[0m, in \u001b[0;36mpandas._libs.index.IndexEngine.get_loc\u001b[1;34m()\u001b[0m\n",
      "File \u001b[1;32mpandas\\\\_libs\\\\hashtable_class_helper.pxi:7081\u001b[0m, in \u001b[0;36mpandas._libs.hashtable.PyObjectHashTable.get_item\u001b[1;34m()\u001b[0m\n",
      "File \u001b[1;32mpandas\\\\_libs\\\\hashtable_class_helper.pxi:7089\u001b[0m, in \u001b[0;36mpandas._libs.hashtable.PyObjectHashTable.get_item\u001b[1;34m()\u001b[0m\n",
      "\u001b[1;31mKeyError\u001b[0m: 'PerformedWell'",
      "\nThe above exception was the direct cause of the following exception:\n",
      "\u001b[1;31mKeyError\u001b[0m                                  Traceback (most recent call last)",
      "Cell \u001b[1;32mIn[20], line 10\u001b[0m\n\u001b[0;32m      7\u001b[0m ax\u001b[38;5;241m.\u001b[39mset_xlabel(\u001b[38;5;124m\"\u001b[39m\u001b[38;5;124mOriginal PerformedWell\u001b[39m\u001b[38;5;124m\"\u001b[39m, fontsize \u001b[38;5;241m=\u001b[39m \u001b[38;5;241m15\u001b[39m)\n\u001b[0;32m      9\u001b[0m \u001b[38;5;66;03m# Plotting resampled data (oversampled)\u001b[39;00m\n\u001b[1;32m---> 10\u001b[0m sb\u001b[38;5;241m.\u001b[39mcountplot(x\u001b[38;5;241m=\u001b[39m\u001b[43moversampled_student_data\u001b[49m\u001b[43m[\u001b[49m\u001b[38;5;124;43m'\u001b[39;49m\u001b[38;5;124;43mPerformedWell\u001b[39;49m\u001b[38;5;124;43m'\u001b[39;49m\u001b[43m]\u001b[49m, ax \u001b[38;5;241m=\u001b[39m axes[\u001b[38;5;241m1\u001b[39m])\n\u001b[0;32m     11\u001b[0m ax \u001b[38;5;241m=\u001b[39m axes[\u001b[38;5;241m1\u001b[39m]\n\u001b[0;32m     12\u001b[0m ax\u001b[38;5;241m.\u001b[39mset_xlabel(\u001b[38;5;124m\"\u001b[39m\u001b[38;5;124mOversampled Performedwell\u001b[39m\u001b[38;5;124m\"\u001b[39m, fontsize \u001b[38;5;241m=\u001b[39m \u001b[38;5;241m15\u001b[39m)\n",
      "File \u001b[1;32m~\\AppData\\Local\\Packages\\PythonSoftwareFoundation.Python.3.11_qbz5n2kfra8p0\\LocalCache\\local-packages\\Python311\\site-packages\\pandas\\core\\frame.py:4090\u001b[0m, in \u001b[0;36mDataFrame.__getitem__\u001b[1;34m(self, key)\u001b[0m\n\u001b[0;32m   4088\u001b[0m \u001b[38;5;28;01mif\u001b[39;00m \u001b[38;5;28mself\u001b[39m\u001b[38;5;241m.\u001b[39mcolumns\u001b[38;5;241m.\u001b[39mnlevels \u001b[38;5;241m>\u001b[39m \u001b[38;5;241m1\u001b[39m:\n\u001b[0;32m   4089\u001b[0m     \u001b[38;5;28;01mreturn\u001b[39;00m \u001b[38;5;28mself\u001b[39m\u001b[38;5;241m.\u001b[39m_getitem_multilevel(key)\n\u001b[1;32m-> 4090\u001b[0m indexer \u001b[38;5;241m=\u001b[39m \u001b[38;5;28;43mself\u001b[39;49m\u001b[38;5;241;43m.\u001b[39;49m\u001b[43mcolumns\u001b[49m\u001b[38;5;241;43m.\u001b[39;49m\u001b[43mget_loc\u001b[49m\u001b[43m(\u001b[49m\u001b[43mkey\u001b[49m\u001b[43m)\u001b[49m\n\u001b[0;32m   4091\u001b[0m \u001b[38;5;28;01mif\u001b[39;00m is_integer(indexer):\n\u001b[0;32m   4092\u001b[0m     indexer \u001b[38;5;241m=\u001b[39m [indexer]\n",
      "File \u001b[1;32m~\\AppData\\Local\\Packages\\PythonSoftwareFoundation.Python.3.11_qbz5n2kfra8p0\\LocalCache\\local-packages\\Python311\\site-packages\\pandas\\core\\indexes\\base.py:3812\u001b[0m, in \u001b[0;36mIndex.get_loc\u001b[1;34m(self, key)\u001b[0m\n\u001b[0;32m   3807\u001b[0m     \u001b[38;5;28;01mif\u001b[39;00m \u001b[38;5;28misinstance\u001b[39m(casted_key, \u001b[38;5;28mslice\u001b[39m) \u001b[38;5;129;01mor\u001b[39;00m (\n\u001b[0;32m   3808\u001b[0m         \u001b[38;5;28misinstance\u001b[39m(casted_key, abc\u001b[38;5;241m.\u001b[39mIterable)\n\u001b[0;32m   3809\u001b[0m         \u001b[38;5;129;01mand\u001b[39;00m \u001b[38;5;28many\u001b[39m(\u001b[38;5;28misinstance\u001b[39m(x, \u001b[38;5;28mslice\u001b[39m) \u001b[38;5;28;01mfor\u001b[39;00m x \u001b[38;5;129;01min\u001b[39;00m casted_key)\n\u001b[0;32m   3810\u001b[0m     ):\n\u001b[0;32m   3811\u001b[0m         \u001b[38;5;28;01mraise\u001b[39;00m InvalidIndexError(key)\n\u001b[1;32m-> 3812\u001b[0m     \u001b[38;5;28;01mraise\u001b[39;00m \u001b[38;5;167;01mKeyError\u001b[39;00m(key) \u001b[38;5;28;01mfrom\u001b[39;00m \u001b[38;5;21;01merr\u001b[39;00m\n\u001b[0;32m   3813\u001b[0m \u001b[38;5;28;01mexcept\u001b[39;00m \u001b[38;5;167;01mTypeError\u001b[39;00m:\n\u001b[0;32m   3814\u001b[0m     \u001b[38;5;66;03m# If we have a listlike key, _check_indexing_error will raise\u001b[39;00m\n\u001b[0;32m   3815\u001b[0m     \u001b[38;5;66;03m#  InvalidIndexError. Otherwise we fall through and re-raise\u001b[39;00m\n\u001b[0;32m   3816\u001b[0m     \u001b[38;5;66;03m#  the TypeError.\u001b[39;00m\n\u001b[0;32m   3817\u001b[0m     \u001b[38;5;28mself\u001b[39m\u001b[38;5;241m.\u001b[39m_check_indexing_error(key)\n",
      "\u001b[1;31mKeyError\u001b[0m: 'PerformedWell'"
     ]
    },
    {
     "data": {
      "image/png": "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",
      "text/plain": [
       "<Figure size 2400x800 with 3 Axes>"
      ]
     },
     "metadata": {},
     "output_type": "display_data"
    }
   ],
   "source": [
    "fig, axes = plt.subplots(1, 3, figsize = (24, 8))\n",
    "plt.setp(axes, ylim = (0, 1000))\n",
    "\n",
    "# Plotting original data\n",
    "sb.countplot(x=train_df['PerformedWell'], ax = axes[0])\n",
    "ax = axes[0]\n",
    "ax.set_xlabel(\"Original PerformedWell\", fontsize = 15)\n",
    "\n",
    "# Plotting resampled data (oversampled)\n",
    "sb.countplot(x=oversampled_student_data['PerformedWell'], ax = axes[1])\n",
    "ax = axes[1]\n",
    "ax.set_xlabel(\"Oversampled Performedwell\", fontsize = 15)\n",
    "\n",
    "# Plotting resampled data (undersampled)\n",
    "sb.countplot(x=undersampled_student_data['PerformedWell'], ax = axes[2])\n",
    "ax = axes[2]\n",
    "ax.set_xlabel(\"Undersampled Performedwell\", fontsize = 15)"
   ]
  },
  {
   "cell_type": "markdown",
   "id": "234b5c9d",
   "metadata": {},
   "source": [
    "After resampling, we can see that the imbalanced between students who did and did not perform well has been taken care of and the ratio is more balanced as compared to the original data."
   ]
  },
  {
   "cell_type": "code",
   "execution_count": null,
   "id": "f8c0d577",
   "metadata": {},
   "outputs": [],
   "source": []
  }
 ],
 "metadata": {
  "kernelspec": {
   "display_name": "Python 3 (ipykernel)",
   "language": "python",
   "name": "python3"
  },
  "language_info": {
   "codemirror_mode": {
    "name": "ipython",
    "version": 3
   },
   "file_extension": ".py",
   "mimetype": "text/x-python",
   "name": "python",
   "nbconvert_exporter": "python",
   "pygments_lexer": "ipython3",
   "version": "3.11.9"
  }
 },
 "nbformat": 4,
 "nbformat_minor": 5
}
