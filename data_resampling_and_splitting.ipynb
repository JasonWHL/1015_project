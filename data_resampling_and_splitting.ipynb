{
 "cells": [
  {
   "cell_type": "markdown",
   "id": "674aa056",
   "metadata": {},
   "source": [
    "## Import necessary libraries"
   ]
  },
  {
   "cell_type": "code",
   "execution_count": 9,
   "id": "e644d46d",
   "metadata": {},
   "outputs": [],
   "source": [
    "# Basic Libraries\n",
    "import numpy as np\n",
    "import pandas as pd\n",
    "import seaborn as sb\n",
    "import matplotlib.pyplot as plt\n",
    "sb.set()\n",
    "\n",
    "# For data splitting\n",
    "from sklearn.model_selection import train_test_split\n",
    "\n",
    "# For resampling\n",
    "from imblearn.over_sampling import SMOTE\n",
    "from imblearn.under_sampling import RandomUnderSampler"
   ]
  },
  {
   "cell_type": "markdown",
   "id": "9d1f2141",
   "metadata": {},
   "source": [
    "## Helper functions for additional factors"
   ]
  },
  {
   "cell_type": "code",
   "execution_count": 5,
   "id": "7b432543",
   "metadata": {},
   "outputs": [],
   "source": [
    "# Determine if a student performed well\n",
    "def performedWell(value):\n",
    "    if value >= 15:\n",
    "        return 1\n",
    "    else:\n",
    "        return 0\n",
    "    \n",
    "# Determine if student has a big family (>3 family size), returns 1 if true & 0 otherwise\n",
    "def bigFam(value):\n",
    "    if value == \"GT3\":\n",
    "        return 1\n",
    "    else:\n",
    "        return 0\n",
    "\n",
    "# Determine whether the student has at least one educated parent (i.e. level 4 education)\n",
    "def atLeast1EduParent(medu, fedu):\n",
    "    if medu == 4 or fedu == 4:\n",
    "        return 1\n",
    "    else:\n",
    "        return 0\n",
    "\n",
    "# Determine whether the student's parents have a large education gap (i.e. >=2 level gap)\n",
    "def parentEduGap(medu, fedu):\n",
    "    gap = abs(medu - fedu)\n",
    "    if gap >= 2:\n",
    "        return 1\n",
    "    else: \n",
    "        return 0\n",
    "    \n",
    "# Determine whether the student's parents are living together or apart\n",
    "def cohabitationStatus(value):\n",
    "    if value == 'T':\n",
    "        return 1\n",
    "    else:\n",
    "        return 0\n",
    "    \n",
    "# Determine whether the student's parents are employed\n",
    "def employed(value):\n",
    "    if value == \"at_home\":\n",
    "        return 0\n",
    "    else:\n",
    "        return 1\n",
    "    \n",
    "# Determine whether the student has a good relationship with their family (i.e. >= level 3)\n",
    "def goodRelation(value):\n",
    "    if value >= 3:\n",
    "        return 1\n",
    "    else:\n",
    "        return 0\n",
    "    \n",
    "# Change yes & no to '1' & '0', respectively (for consistency)\n",
    "def famSupport(value):\n",
    "    if value == \"yes\":\n",
    "        return 1\n",
    "    else:\n",
    "        return 0"
   ]
  },
  {
   "cell_type": "markdown",
   "id": "5e85fbd8",
   "metadata": {},
   "source": [
    "## Adding relevant factors"
   ]
  },
  {
   "cell_type": "code",
   "execution_count": 6,
   "id": "faa46167",
   "metadata": {},
   "outputs": [],
   "source": [
    "# Read the CSV file into a DataFrame\n",
    "df = pd.read_csv(\"aligned_student_data.csv\")\n",
    "\n",
    "# Apply performed_well function to 'G3' column and create a new column 'PerformedWell'\n",
    "df['PerformedWell'] = df['G3'].apply(performedWell)\n",
    "\n",
    "# Apply bigFam function to 'famsize' column and create a new column 'BigFamily'\n",
    "df['BigFamily'] = df['famsize'].apply(bigFam)\n",
    "\n",
    "# Apply atLeast1EduParent function to 'Medu' and 'Fedu' columns and create a new column 'AtLeast1EducatedParent'\n",
    "df['AtLeast1EducatedParent'] = df.apply(lambda row: atLeast1EduParent(row['Medu'], row['Fedu']), axis=1)\n",
    "\n",
    "# Apply parentEduGap function to 'Medu' and 'Fedu' columns and create a new column 'ParentEducationGap'\n",
    "df['ParentEducationGap'] = df.apply(lambda row: parentEduGap(row['Medu'], row['Fedu']), axis=1)\n",
    "\n",
    "# Apply cohabitation_status function to 'Pstatus' column and create a new column 'ParentsLivingTogether'\n",
    "df['ParentsLivingTogether'] = df['Pstatus'].apply(cohabitationStatus)\n",
    "\n",
    "# Apply employed function to 'Mjob' and 'Fjob' columns and create new columns \"M_employed\" and \"F_employed\" respectively\n",
    "df['M_employed'] = df['Mjob'].apply(employed)\n",
    "df['F_employed'] = df['Fjob'].apply(employed)\n",
    "\n",
    "# Apply goodRelation function to 'famrel' column and create a new column 'GoodFamilyRelationship'\n",
    "df['GoodFamilyRelation'] = df['famrel'].apply(goodRelation)\n",
    "\n",
    "# Apply famSupport function to 'famsup' column and create a new column 'SupportedByFamily'\n",
    "df['SupportedByFamily'] = df['famsup'].apply(famSupport)\n",
    "\n",
    "# Save the DataFrame with the new column back to a CSV file\n",
    "df.to_csv(\"aligned_student_data.csv\", index=False)"
   ]
  },
  {
   "cell_type": "code",
   "execution_count": 7,
   "id": "7340d672",
   "metadata": {},
   "outputs": [
    {
     "data": {
      "text/html": [
       "<div>\n",
       "<style scoped>\n",
       "    .dataframe tbody tr th:only-of-type {\n",
       "        vertical-align: middle;\n",
       "    }\n",
       "\n",
       "    .dataframe tbody tr th {\n",
       "        vertical-align: top;\n",
       "    }\n",
       "\n",
       "    .dataframe thead th {\n",
       "        text-align: right;\n",
       "    }\n",
       "</style>\n",
       "<table border=\"1\" class=\"dataframe\">\n",
       "  <thead>\n",
       "    <tr style=\"text-align: right;\">\n",
       "      <th></th>\n",
       "      <th>BigFamily</th>\n",
       "      <th>ParentsLivingTogether</th>\n",
       "      <th>AtLeast1EducatedParent</th>\n",
       "      <th>ParentEducationGap</th>\n",
       "      <th>M_employed</th>\n",
       "      <th>F_employed</th>\n",
       "      <th>SupportedByFamily</th>\n",
       "      <th>GoodFamilyRelation</th>\n",
       "      <th>PerformedWell</th>\n",
       "    </tr>\n",
       "  </thead>\n",
       "  <tbody>\n",
       "    <tr>\n",
       "      <th>0</th>\n",
       "      <td>1</td>\n",
       "      <td>0</td>\n",
       "      <td>1</td>\n",
       "      <td>0</td>\n",
       "      <td>0</td>\n",
       "      <td>1</td>\n",
       "      <td>0</td>\n",
       "      <td>1</td>\n",
       "      <td>0</td>\n",
       "    </tr>\n",
       "    <tr>\n",
       "      <th>1</th>\n",
       "      <td>1</td>\n",
       "      <td>1</td>\n",
       "      <td>0</td>\n",
       "      <td>0</td>\n",
       "      <td>0</td>\n",
       "      <td>1</td>\n",
       "      <td>1</td>\n",
       "      <td>1</td>\n",
       "      <td>0</td>\n",
       "    </tr>\n",
       "    <tr>\n",
       "      <th>2</th>\n",
       "      <td>0</td>\n",
       "      <td>1</td>\n",
       "      <td>0</td>\n",
       "      <td>0</td>\n",
       "      <td>0</td>\n",
       "      <td>1</td>\n",
       "      <td>0</td>\n",
       "      <td>1</td>\n",
       "      <td>0</td>\n",
       "    </tr>\n",
       "    <tr>\n",
       "      <th>3</th>\n",
       "      <td>1</td>\n",
       "      <td>1</td>\n",
       "      <td>1</td>\n",
       "      <td>1</td>\n",
       "      <td>1</td>\n",
       "      <td>1</td>\n",
       "      <td>1</td>\n",
       "      <td>1</td>\n",
       "      <td>0</td>\n",
       "    </tr>\n",
       "    <tr>\n",
       "      <th>4</th>\n",
       "      <td>1</td>\n",
       "      <td>1</td>\n",
       "      <td>0</td>\n",
       "      <td>0</td>\n",
       "      <td>1</td>\n",
       "      <td>1</td>\n",
       "      <td>1</td>\n",
       "      <td>1</td>\n",
       "      <td>0</td>\n",
       "    </tr>\n",
       "  </tbody>\n",
       "</table>\n",
       "</div>"
      ],
      "text/plain": [
       "   BigFamily  ParentsLivingTogether  AtLeast1EducatedParent  \\\n",
       "0          1                      0                       1   \n",
       "1          1                      1                       0   \n",
       "2          0                      1                       0   \n",
       "3          1                      1                       1   \n",
       "4          1                      1                       0   \n",
       "\n",
       "   ParentEducationGap  M_employed  F_employed  SupportedByFamily  \\\n",
       "0                   0           0           1                  0   \n",
       "1                   0           0           1                  1   \n",
       "2                   0           0           1                  0   \n",
       "3                   1           1           1                  1   \n",
       "4                   0           1           1                  1   \n",
       "\n",
       "   GoodFamilyRelation  PerformedWell  \n",
       "0                   1              0  \n",
       "1                   1              0  \n",
       "2                   1              0  \n",
       "3                   1              0  \n",
       "4                   1              0  "
      ]
     },
     "execution_count": 7,
     "metadata": {},
     "output_type": "execute_result"
    }
   ],
   "source": [
    "df = df.filter([\"BigFamily\", \"ParentsLivingTogether\", \"AtLeast1EducatedParent\", \"ParentEducationGap\", \"M_employed\", \"F_employed\", \"SupportedByFamily\", \"GoodFamilyRelation\", \"PerformedWell\"], axis=1)\n",
    "df.head()"
   ]
  },
  {
   "cell_type": "markdown",
   "id": "91673e0c",
   "metadata": {},
   "source": [
    "## Data Splitting"
   ]
  },
  {
   "cell_type": "code",
   "execution_count": 10,
   "id": "3fc7376c",
   "metadata": {},
   "outputs": [],
   "source": [
    "# Split the dataframe into predicators and response\n",
    "X, y = df.iloc[: , :-1], df.iloc[: , -1]\n",
    "\n",
    "# Since the dataset is smaller, split the dataset into 60% training and 40% test set\n",
    "X_train, X_test, y_train, y_test = train_test_split(X, y, train_size = 0.6, random_state = 20)"
   ]
  },
  {
   "cell_type": "code",
   "execution_count": 11,
   "id": "287c2c44",
   "metadata": {},
   "outputs": [
    {
     "name": "stdout",
     "output_type": "stream",
     "text": [
      "Proportion of students who perfomed well and did not perform well:\n",
      "Performed well vs Did not perform well\n",
      "78 vs 311\n"
     ]
    }
   ],
   "source": [
    "print(\"Proportion of students who perfomed well and did not perform well:\")\n",
    "print(\"Performed well vs Did not perform well\")\n",
    "print(y_train.value_counts()[1], 'vs', y_train.value_counts()[0])"
   ]
  },
  {
   "cell_type": "markdown",
   "id": "7c9d3502",
   "metadata": {},
   "source": [
    "Above shows that the data is imbalanced.\n",
    "Hence, we decided to use the resampling technique to solve this issue"
   ]
  },
  {
   "cell_type": "markdown",
   "id": "10539961",
   "metadata": {},
   "source": [
    "## Save train and test data as CSV, respectively"
   ]
  },
  {
   "cell_type": "code",
   "execution_count": 31,
   "id": "f70cb8f9",
   "metadata": {},
   "outputs": [],
   "source": [
    "# Create a DF for the training data\n",
    "train_df = pd.concat([X_train, y_train], axis=1)\n",
    "train_df.to_csv('train.csv')\n",
    "\n",
    "# Create a DF for the test data\n",
    "test_df = pd.concat([X_test, y_test], axis = 1)\n",
    "test_df.to_csv('test.csv')"
   ]
  },
  {
   "cell_type": "markdown",
   "id": "e644cb37",
   "metadata": {},
   "source": [
    "## Oversampling using SMOTE"
   ]
  },
  {
   "cell_type": "code",
   "execution_count": 32,
   "id": "ce45b996",
   "metadata": {},
   "outputs": [
    {
     "data": {
      "text/html": [
       "<div>\n",
       "<style scoped>\n",
       "    .dataframe tbody tr th:only-of-type {\n",
       "        vertical-align: middle;\n",
       "    }\n",
       "\n",
       "    .dataframe tbody tr th {\n",
       "        vertical-align: top;\n",
       "    }\n",
       "\n",
       "    .dataframe thead th {\n",
       "        text-align: right;\n",
       "    }\n",
       "</style>\n",
       "<table border=\"1\" class=\"dataframe\">\n",
       "  <thead>\n",
       "    <tr style=\"text-align: right;\">\n",
       "      <th></th>\n",
       "      <th>BigFamily</th>\n",
       "      <th>ParentsLivingTogether</th>\n",
       "      <th>AtLeast1EducatedParent</th>\n",
       "      <th>ParentEducationGap</th>\n",
       "      <th>M_employed</th>\n",
       "      <th>F_employed</th>\n",
       "      <th>SupportedByFamily</th>\n",
       "      <th>GoodFamilyRelation</th>\n",
       "      <th>PerformedWell</th>\n",
       "    </tr>\n",
       "  </thead>\n",
       "  <tbody>\n",
       "    <tr>\n",
       "      <th>0</th>\n",
       "      <td>0</td>\n",
       "      <td>0</td>\n",
       "      <td>0</td>\n",
       "      <td>0</td>\n",
       "      <td>1</td>\n",
       "      <td>1</td>\n",
       "      <td>1</td>\n",
       "      <td>1</td>\n",
       "      <td>0</td>\n",
       "    </tr>\n",
       "    <tr>\n",
       "      <th>1</th>\n",
       "      <td>0</td>\n",
       "      <td>1</td>\n",
       "      <td>1</td>\n",
       "      <td>1</td>\n",
       "      <td>1</td>\n",
       "      <td>1</td>\n",
       "      <td>0</td>\n",
       "      <td>1</td>\n",
       "      <td>0</td>\n",
       "    </tr>\n",
       "    <tr>\n",
       "      <th>2</th>\n",
       "      <td>1</td>\n",
       "      <td>0</td>\n",
       "      <td>1</td>\n",
       "      <td>0</td>\n",
       "      <td>1</td>\n",
       "      <td>1</td>\n",
       "      <td>1</td>\n",
       "      <td>1</td>\n",
       "      <td>1</td>\n",
       "    </tr>\n",
       "    <tr>\n",
       "      <th>3</th>\n",
       "      <td>1</td>\n",
       "      <td>0</td>\n",
       "      <td>0</td>\n",
       "      <td>0</td>\n",
       "      <td>1</td>\n",
       "      <td>1</td>\n",
       "      <td>0</td>\n",
       "      <td>1</td>\n",
       "      <td>0</td>\n",
       "    </tr>\n",
       "    <tr>\n",
       "      <th>4</th>\n",
       "      <td>1</td>\n",
       "      <td>1</td>\n",
       "      <td>0</td>\n",
       "      <td>0</td>\n",
       "      <td>1</td>\n",
       "      <td>1</td>\n",
       "      <td>0</td>\n",
       "      <td>1</td>\n",
       "      <td>1</td>\n",
       "    </tr>\n",
       "  </tbody>\n",
       "</table>\n",
       "</div>"
      ],
      "text/plain": [
       "   BigFamily  ParentsLivingTogether  AtLeast1EducatedParent  \\\n",
       "0          0                      0                       0   \n",
       "1          0                      1                       1   \n",
       "2          1                      0                       1   \n",
       "3          1                      0                       0   \n",
       "4          1                      1                       0   \n",
       "\n",
       "   ParentEducationGap  M_employed  F_employed  SupportedByFamily  \\\n",
       "0                   0           1           1                  1   \n",
       "1                   1           1           1                  0   \n",
       "2                   0           1           1                  1   \n",
       "3                   0           1           1                  0   \n",
       "4                   0           1           1                  0   \n",
       "\n",
       "   GoodFamilyRelation  PerformedWell  \n",
       "0                   1              0  \n",
       "1                   1              0  \n",
       "2                   1              1  \n",
       "3                   1              0  \n",
       "4                   1              1  "
      ]
     },
     "execution_count": 32,
     "metadata": {},
     "output_type": "execute_result"
    }
   ],
   "source": [
    "# Perform oversampling using SMOTE\n",
    "smote = SMOTE(random_state = 42)\n",
    "X_oversampled, y_oversampled = smote.fit_resample(X_train, y_train)\n",
    "\n",
    "# Concatenate X and y arrays for oversampled data\n",
    "oversampled_student_data = pd.concat([pd.DataFrame(X_oversampled, columns = X.columns), pd.DataFrame(y_oversampled, columns = ['PerformedWell'])], axis = 1)\n",
    "\n",
    "oversampled_student_data.head()"
   ]
  },
  {
   "cell_type": "code",
   "execution_count": 14,
   "id": "a2eddd35",
   "metadata": {},
   "outputs": [
    {
     "name": "stdout",
     "output_type": "stream",
     "text": [
      "After oversampling: \n",
      "Performed well vs Did not perform well\n",
      "311 vs 311\n"
     ]
    }
   ],
   "source": [
    "print(\"After oversampling: \")\n",
    "print(\"Performed well vs Did not perform well\")\n",
    "print(y_oversampled.value_counts()[1], 'vs', y_oversampled.value_counts()[0])"
   ]
  },
  {
   "cell_type": "markdown",
   "id": "2731969a",
   "metadata": {},
   "source": [
    "## Undersampling using RandomUnderSampler"
   ]
  },
  {
   "cell_type": "code",
   "execution_count": 33,
   "id": "7cd22caa",
   "metadata": {},
   "outputs": [
    {
     "data": {
      "text/html": [
       "<div>\n",
       "<style scoped>\n",
       "    .dataframe tbody tr th:only-of-type {\n",
       "        vertical-align: middle;\n",
       "    }\n",
       "\n",
       "    .dataframe tbody tr th {\n",
       "        vertical-align: top;\n",
       "    }\n",
       "\n",
       "    .dataframe thead th {\n",
       "        text-align: right;\n",
       "    }\n",
       "</style>\n",
       "<table border=\"1\" class=\"dataframe\">\n",
       "  <thead>\n",
       "    <tr style=\"text-align: right;\">\n",
       "      <th></th>\n",
       "      <th>BigFamily</th>\n",
       "      <th>ParentsLivingTogether</th>\n",
       "      <th>AtLeast1EducatedParent</th>\n",
       "      <th>ParentEducationGap</th>\n",
       "      <th>M_employed</th>\n",
       "      <th>F_employed</th>\n",
       "      <th>SupportedByFamily</th>\n",
       "      <th>GoodFamilyRelation</th>\n",
       "      <th>PerformedWell</th>\n",
       "    </tr>\n",
       "  </thead>\n",
       "  <tbody>\n",
       "    <tr>\n",
       "      <th>478</th>\n",
       "      <td>1</td>\n",
       "      <td>1</td>\n",
       "      <td>0</td>\n",
       "      <td>0</td>\n",
       "      <td>0</td>\n",
       "      <td>1</td>\n",
       "      <td>1</td>\n",
       "      <td>1</td>\n",
       "      <td>0</td>\n",
       "    </tr>\n",
       "    <tr>\n",
       "      <th>324</th>\n",
       "      <td>1</td>\n",
       "      <td>1</td>\n",
       "      <td>0</td>\n",
       "      <td>0</td>\n",
       "      <td>0</td>\n",
       "      <td>1</td>\n",
       "      <td>0</td>\n",
       "      <td>1</td>\n",
       "      <td>0</td>\n",
       "    </tr>\n",
       "    <tr>\n",
       "      <th>25</th>\n",
       "      <td>1</td>\n",
       "      <td>1</td>\n",
       "      <td>0</td>\n",
       "      <td>0</td>\n",
       "      <td>1</td>\n",
       "      <td>1</td>\n",
       "      <td>1</td>\n",
       "      <td>0</td>\n",
       "      <td>0</td>\n",
       "    </tr>\n",
       "    <tr>\n",
       "      <th>256</th>\n",
       "      <td>1</td>\n",
       "      <td>1</td>\n",
       "      <td>0</td>\n",
       "      <td>0</td>\n",
       "      <td>1</td>\n",
       "      <td>0</td>\n",
       "      <td>1</td>\n",
       "      <td>1</td>\n",
       "      <td>0</td>\n",
       "    </tr>\n",
       "    <tr>\n",
       "      <th>131</th>\n",
       "      <td>1</td>\n",
       "      <td>1</td>\n",
       "      <td>0</td>\n",
       "      <td>0</td>\n",
       "      <td>1</td>\n",
       "      <td>1</td>\n",
       "      <td>1</td>\n",
       "      <td>1</td>\n",
       "      <td>0</td>\n",
       "    </tr>\n",
       "  </tbody>\n",
       "</table>\n",
       "</div>"
      ],
      "text/plain": [
       "     BigFamily  ParentsLivingTogether  AtLeast1EducatedParent  \\\n",
       "478          1                      1                       0   \n",
       "324          1                      1                       0   \n",
       "25           1                      1                       0   \n",
       "256          1                      1                       0   \n",
       "131          1                      1                       0   \n",
       "\n",
       "     ParentEducationGap  M_employed  F_employed  SupportedByFamily  \\\n",
       "478                   0           0           1                  1   \n",
       "324                   0           0           1                  0   \n",
       "25                    0           1           1                  1   \n",
       "256                   0           1           0                  1   \n",
       "131                   0           1           1                  1   \n",
       "\n",
       "     GoodFamilyRelation  PerformedWell  \n",
       "478                   1              0  \n",
       "324                   1              0  \n",
       "25                    0              0  \n",
       "256                   1              0  \n",
       "131                   1              0  "
      ]
     },
     "execution_count": 33,
     "metadata": {},
     "output_type": "execute_result"
    }
   ],
   "source": [
    "# Perform undersampling using RandomUnderSampler\n",
    "undersampler = RandomUnderSampler(random_state = 42)\n",
    "X_undersampled, y_undersampled = undersampler.fit_resample(X_train, y_train)\n",
    "\n",
    "# Concatenate X and y arrays for undersampled data\n",
    "undersampled_student_data = pd.concat([pd.DataFrame(X_undersampled, columns = X.columns), pd.DataFrame(y_undersampled, columns = ['PerformedWell'])], axis = 1)\n",
    "\n",
    "undersampled_student_data.head()"
   ]
  },
  {
   "cell_type": "code",
   "execution_count": 17,
   "id": "802745f8",
   "metadata": {},
   "outputs": [
    {
     "name": "stdout",
     "output_type": "stream",
     "text": [
      "After undersampling: \n",
      "Performed well vs Did not perform well\n",
      "78 vs 78\n"
     ]
    }
   ],
   "source": [
    "print(\"After undersampling: \")\n",
    "print(\"Performed well vs Did not perform well\")\n",
    "print(y_undersampled.value_counts()[1], 'vs', y_undersampled.value_counts()[0])"
   ]
  },
  {
   "cell_type": "markdown",
   "id": "54886ec8",
   "metadata": {},
   "source": [
    "## Save resampled data as CSV"
   ]
  },
  {
   "cell_type": "code",
   "execution_count": 35,
   "id": "ef2eaefa",
   "metadata": {},
   "outputs": [],
   "source": [
    "# Save oversampled and undersampled datasets into new CSV files\n",
    "oversampled_student_data.to_csv('oversampled_student_data.csv', index = False)\n",
    "undersampled_student_data.to_csv('undersampled_student_data.csv', index = False)"
   ]
  },
  {
   "cell_type": "markdown",
   "id": "4f7c97d3",
   "metadata": {},
   "source": [
    "## Visualing resampled data vs original data"
   ]
  },
  {
   "cell_type": "code",
   "execution_count": 27,
   "id": "bfe44c6d",
   "metadata": {},
   "outputs": [
    {
     "data": {
      "text/plain": [
       "Text(0.5, 0, 'Undersampled Performedwell')"
      ]
     },
     "execution_count": 27,
     "metadata": {},
     "output_type": "execute_result"
    },
    {
     "data": {
      "image/png": "[encoded data removed]",
      "text/plain": [
       "<Figure size 2400x800 with 3 Axes>"
      ]
     },
     "metadata": {},
     "output_type": "display_data"
    }
   ],
   "source": [
    "fig, axes = plt.subplots(1, 3, figsize = (24, 8))\n",
    "plt.setp(axes, ylim = (0, 350))\n",
    "\n",
    "# Plotting original data\n",
    "sb.countplot(x=train_df['PerformedWell'], ax = axes[0])\n",
    "ax = axes[0]\n",
    "ax.set_xlabel(\"Original PerformedWell\", fontsize = 15)\n",
    "\n",
    "# Plotting resampled data (oversampled)\n",
    "sb.countplot(x=oversampled_student_data['PerformedWell'], ax = axes[1])\n",
    "ax = axes[1]\n",
    "ax.set_xlabel(\"Oversampled Performedwell\", fontsize = 15)\n",
    "\n",
    "# Plotting resampled data (undersampled)\n",
    "sb.countplot(x=undersampled_student_data['PerformedWell'], ax = axes[2])\n",
    "ax = axes[2]\n",
    "ax.set_xlabel(\"Undersampled Performedwell\", fontsize = 15)"
   ]
  },
  {
   "cell_type": "markdown",
   "id": "234b5c9d",
   "metadata": {},
   "source": [
    "After resampling, we can see that the imbalanced between students who did and did not perform well has been taken care of and the ratio is more balanced as compared to the original data."
   ]
  },
  {
   "cell_type": "code",
   "execution_count": null,
   "id": "f8c0d577",
   "metadata": {},
   "outputs": [],
   "source": []
  }
 ],
 "metadata": {
  "kernelspec": {
   "display_name": "Python 3 (ipykernel)",
   "language": "python",
   "name": "python3"
  },
  "language_info": {
   "codemirror_mode": {
    "name": "ipython",
    "version": 3
   },
   "file_extension": ".py",
   "mimetype": "text/x-python",
   "name": "python",
   "nbconvert_exporter": "python",
   "pygments_lexer": "ipython3",
   "version": "3.11.9"
  }
 },
 "nbformat": 4,
 "nbformat_minor": 5
}
